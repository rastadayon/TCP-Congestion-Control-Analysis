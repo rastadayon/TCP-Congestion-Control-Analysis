{
 "cells": [
  {
   "cell_type": "code",
   "execution_count": 2,
   "metadata": {},
   "outputs": [],
   "source": [
    "# import nstrace\n",
    "import sys"
   ]
  },
  {
   "cell_type": "code",
   "execution_count": 33,
   "metadata": {},
   "outputs": [],
   "source": [
    "filename = 'basic1.tr'\n",
    "with open(filename) as f:\n",
    "    content = f.readlines()"
   ]
  },
  {
   "cell_type": "code",
   "execution_count": 34,
   "metadata": {},
   "outputs": [],
   "source": [
    "splitter = lambda x: x.split()\n",
    "split_list = list(map(splitter, content))"
   ]
  },
  {
   "cell_type": "code",
   "execution_count": 35,
   "metadata": {},
   "outputs": [],
   "source": [
    "keep_cwnd = lambda x: x if 'cwnd_' in x else None\n",
    "just_cwnd = list(map(keep_cwnd, split_list))"
   ]
  },
  {
   "cell_type": "code",
   "execution_count": 36,
   "metadata": {},
   "outputs": [],
   "source": [
    "just_cwnd = list(filter((None).__ne__, just_cwnd))"
   ]
  },
  {
   "cell_type": "code",
   "execution_count": 37,
   "metadata": {},
   "outputs": [],
   "source": [
    "data_maker = lambda x: [x[0], x[1], x[3], x[6]]\n",
    "data = list(map(data_maker, just_cwnd))"
   ]
  },
  {
   "cell_type": "code",
   "execution_count": 38,
   "metadata": {},
   "outputs": [],
   "source": [
    "stream_1_maker = lambda x: x if x[1] == '0' and x[2] == '4' else None\n",
    "stream_1 = list(map(stream_1_maker, data))\n",
    "stream_1 = list(filter((None).__ne__, stream_1))\n",
    "\n",
    "stream_2_maker = lambda x: x if x[1] == '1' and x[2] == '5' else None\n",
    "stream_2 = list(map(stream_2_maker, data))\n",
    "stream_2 = list(filter((None).__ne__, stream_2))"
   ]
  },
  {
   "cell_type": "code",
   "execution_count": 39,
   "metadata": {},
   "outputs": [
    {
     "name": "stdout",
     "output_type": "stream",
     "text": [
      "10252 32\n"
     ]
    }
   ],
   "source": [
    "print(len(stream_1), len(stream_2))"
   ]
  },
  {
   "cell_type": "code",
   "execution_count": null,
   "metadata": {},
   "outputs": [],
   "source": []
  }
 ],
 "metadata": {
  "kernelspec": {
   "display_name": "Python 3",
   "language": "python",
   "name": "python3"
  },
  "language_info": {
   "codemirror_mode": {
    "name": "ipython",
    "version": 3
   },
   "file_extension": ".py",
   "mimetype": "text/x-python",
   "name": "python",
   "nbconvert_exporter": "python",
   "pygments_lexer": "ipython3",
   "version": "3.7.6"
  }
 },
 "nbformat": 4,
 "nbformat_minor": 4
}
