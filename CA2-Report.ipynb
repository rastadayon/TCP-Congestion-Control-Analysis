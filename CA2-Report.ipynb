{
 "cells": [
  {
   "cell_type": "code",
   "execution_count": 1,
   "metadata": {},
   "outputs": [],
   "source": [
    "# import nstrace\n",
    "import sys\n",
    "import matplotlib.pyplot as plt\n",
    "import matplotlib"
   ]
  },
  {
   "cell_type": "code",
   "execution_count": 2,
   "metadata": {},
   "outputs": [],
   "source": [
    "filename = 'trace.tr'\n",
    "with open(filename) as f:\n",
    "    content = f.readlines()"
   ]
  },
  {
   "cell_type": "code",
   "execution_count": 3,
   "metadata": {},
   "outputs": [],
   "source": [
    "splitter = lambda x: x.split()\n",
    "split_list = list(map(splitter, content))"
   ]
  },
  {
   "cell_type": "code",
   "execution_count": 4,
   "metadata": {},
   "outputs": [],
   "source": [
    "keep_cwnd = lambda x: x if 'cwnd_' in x else None\n",
    "just_cwnd = list(map(keep_cwnd, split_list))"
   ]
  },
  {
   "cell_type": "code",
   "execution_count": 5,
   "metadata": {},
   "outputs": [],
   "source": [
    "just_cwnd = list(filter((None).__ne__, just_cwnd))"
   ]
  },
  {
   "cell_type": "code",
   "execution_count": 6,
   "metadata": {},
   "outputs": [],
   "source": [
    "data_maker = lambda x: [x[0], x[1], x[3], x[6]]\n",
    "data = list(map(data_maker, just_cwnd))"
   ]
  },
  {
   "cell_type": "code",
   "execution_count": 7,
   "metadata": {},
   "outputs": [],
   "source": [
    "stream_1_maker = lambda x: x if x[1] == '0' and x[2] == '4' else None\n",
    "stream_1 = list(map(stream_1_maker, data))\n",
    "stream_1 = list(filter((None).__ne__, stream_1))\n",
    "\n",
    "stream_2_maker = lambda x: x if x[1] == '1' and x[2] == '5' else None\n",
    "stream_2 = list(map(stream_2_maker, data))\n",
    "stream_2 = list(filter((None).__ne__, stream_2))"
   ]
  },
  {
   "cell_type": "code",
   "execution_count": 8,
   "metadata": {},
   "outputs": [
    {
     "name": "stdout",
     "output_type": "stream",
     "text": [
      "467 476\n"
     ]
    }
   ],
   "source": [
    "print(len(stream_1), len(stream_2))"
   ]
  },
  {
   "cell_type": "markdown",
   "metadata": {},
   "source": [
    "***"
   ]
  },
  {
   "cell_type": "code",
   "execution_count": 9,
   "metadata": {},
   "outputs": [],
   "source": [
    "cwnd_file = 'cwnd'\n",
    "with open(cwnd_file) as f:\n",
    "    content = f.readlines()\n",
    "splitter = lambda x: x[:-1].split()\n",
    "split_cwnd = list(map(splitter, content))"
   ]
  },
  {
   "cell_type": "code",
   "execution_count": 10,
   "metadata": {},
   "outputs": [],
   "source": [
    "time = list(map(lambda x: x[0], split_cwnd))\n",
    "cwnd1 = list(map(lambda x: x[1], split_cwnd))\n",
    "cwnd2 = list(map(lambda x: x[2], split_cwnd))"
   ]
  },
  {
   "cell_type": "code",
   "execution_count": 12,
   "metadata": {},
   "outputs": [],
   "source": [
    "# plt.plot(time,cwnd1)\n",
    "# matplotlib.use('TkAgg')\n",
    "plt.figure(figsize=(30,15))\n",
    "plt.plot(time, cwnd1)\n",
    "plt.plot(time, cwnd2)\n",
    "plt.legend(['cwnd 1 to 5 tcp reno', 'cwnd 2 to 6 tcp reno'], loc='upper left')\n",
    "plt.show()"
   ]
  },
  {
   "cell_type": "code",
   "execution_count": null,
   "metadata": {},
   "outputs": [],
   "source": [
    "plt.figure(figsize=(30,15))\n",
    "plt.plot(time, cwnd1, color='green')"
   ]
  },
  {
   "cell_type": "markdown",
   "metadata": {},
   "source": [
    "***"
   ]
  },
  {
   "cell_type": "code",
   "execution_count": 37,
   "metadata": {},
   "outputs": [],
   "source": [
    "filename = 'trace.tr'\n",
    "with open(filename) as f:\n",
    "    content = f.readlines()\n",
    "split_rtt = list(map(lambda x: x[:-1].split(), content))\n",
    "rtt_data = list(map(lambda x: x if 'rtt_' in x else None, split_rtt))\n",
    "rtt_data = list(filter((None).__ne__, rtt_data))"
   ]
  },
  {
   "cell_type": "code",
   "execution_count": 40,
   "metadata": {},
   "outputs": [],
   "source": [
    "rtt_1 = list(map(lambda x: [x[0],x[6]] if x[1] == '0' and x[2] == '4' else None, rtt_data))\n",
    "rtt_1 = list(filter((None).__ne__, rtt_1))\n",
    "\n",
    "rtt_2 = list(map(lambda x: [x[0],x[6]] if x[1] == '1' and x[2] == '5' else None, rtt_data))\n",
    "rtt_2 = list(filter((None).__ne__, rtt_2))\n",
    "\n",
    "rtt1_time = list(map(lambda x: x[0], rtt_1))\n",
    "rtt1_value = list(map(lambda x: x[1], rtt_1))\n",
    "\n",
    "rtt2_time = list(map(lambda x: x[0], rtt_2))\n",
    "rtt2_value = list(map(lambda x: x[1], rtt_2))"
   ]
  },
  {
   "cell_type": "code",
   "execution_count": 41,
   "metadata": {},
   "outputs": [],
   "source": [
    "matplotlib.use('TkAgg')\n",
    "plt.figure(figsize=(30,15))\n",
    "plt.plot(rtt1_time, rtt1_value)\n",
    "plt.plot(rtt2_time, rtt2_value)\n",
    "plt.legend(['rtt 1 to 5 tcp reno', 'rtt 2 to 6 tcp reno'], loc='upper left')\n",
    "plt.show()"
   ]
  },
  {
   "cell_type": "code",
   "execution_count": null,
   "metadata": {},
   "outputs": [],
   "source": []
  }
 ],
 "metadata": {
  "kernelspec": {
   "display_name": "Python 3",
   "language": "python",
   "name": "python3"
  },
  "language_info": {
   "codemirror_mode": {
    "name": "ipython",
    "version": 3
   },
   "file_extension": ".py",
   "mimetype": "text/x-python",
   "name": "python",
   "nbconvert_exporter": "python",
   "pygments_lexer": "ipython3",
   "version": "3.7.6"
  }
 },
 "nbformat": 4,
 "nbformat_minor": 4
}
